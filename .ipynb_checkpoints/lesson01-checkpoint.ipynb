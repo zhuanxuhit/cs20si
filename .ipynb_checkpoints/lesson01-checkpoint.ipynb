{
 "cells": [
  {
   "cell_type": "markdown",
   "metadata": {},
   "source": [
    "一些有用的链接\n",
    "\n",
    "[slides](http://web.stanford.edu/class/cs20si/lectures/slides_01.pdf)\n",
    "\n",
    "[note](http://web.stanford.edu/class/cs20si/lectures/notes_01.pdf)\n",
    "\n",
    "[详细notebook](https://github.com/lightaime/cs20si/blob/master/1_overview_of_tensorflow.ipynb)\n",
    "\n",
    "## Overview of Tensorflow\n"
   ]
  },
  {
   "cell_type": "code",
   "execution_count": 1,
   "metadata": {
    "collapsed": true
   },
   "outputs": [],
   "source": [
    "import tensorflow as tf\n",
    "import numpy as np"
   ]
  },
  {
   "cell_type": "markdown",
   "metadata": {},
   "source": [
    "## Graphs and Session\n",
    "tf中将操作分为了定义和执行量部分，分别对应的就是 Graphs 和 Session\n",
    "\n",
    "我们先定义计算的模型即图，然后在session中执行得到结果\n",
    "\n",
    "### Tensor\n",
    "Tensor即张量，就是数学上的张量的概念，我们平时一般接触到的就是二维、三维的向量，更高维度就是张量了，当然张量是更高层的概念，因此也包含了0，1，2，3维"
   ]
  },
  {
   "cell_type": "code",
   "execution_count": 2,
   "metadata": {
    "collapsed": false
   },
   "outputs": [
    {
     "name": "stdout",
     "output_type": "stream",
     "text": [
      "Tensor(\"Add:0\", shape=(), dtype=int32)\n",
      "name: \"Add\"\n",
      "op: \"Add\"\n",
      "input: \"Add/x\"\n",
      "input: \"Add/y\"\n",
      "attr {\n",
      "  key: \"T\"\n",
      "  value {\n",
      "    type: DT_INT32\n",
      "  }\n",
      "}\n",
      "\n"
     ]
    }
   ],
   "source": [
    "a = tf.add(3,5)\n",
    "print(a)\n",
    "print(a.op)"
   ]
  },
  {
   "cell_type": "markdown",
   "metadata": {},
   "source": [
    "我们可以看到tf.add操作不是我们平时直观的算术操作，他返回的是一个Tensor，然后其捕获的是`Add`操作，并且有两个输入\n",
    "\n",
    "要想执行操作，我们需要在Session中执行"
   ]
  },
  {
   "cell_type": "code",
   "execution_count": 3,
   "metadata": {
    "collapsed": false
   },
   "outputs": [
    {
     "name": "stdout",
     "output_type": "stream",
     "text": [
      "8\n"
     ]
    }
   ],
   "source": [
    "with tf.Session() as sess:\n",
    "    print(sess.run(a))"
   ]
  },
  {
   "cell_type": "markdown",
   "metadata": {},
   "source": [
    "!note：我们通过像文件操作符一样的 with 关键字，可以省去 sess.close() 操作\n",
    "\n",
    "下面再介绍一个操作\n",
    "\n",
    "![](./images/l1-mul.png)"
   ]
  },
  {
   "cell_type": "code",
   "execution_count": 4,
   "metadata": {
    "collapsed": false
   },
   "outputs": [
    {
     "name": "stdout",
     "output_type": "stream",
     "text": [
      "Tensor(\"Pow:0\", shape=(), dtype=int32)\n"
     ]
    }
   ],
   "source": [
    "x = 2\n",
    "y = 3\n",
    "op1 = tf.add(x, y)\n",
    "op2 = tf.multiply(x,y)\n",
    "op3 = tf.pow(op2, op1)\n",
    "print(op3)\n",
    "assert op3.graph is tf.get_default_graph()"
   ]
  },
  {
   "cell_type": "markdown",
   "metadata": {},
   "source": [
    "当我们在tf中不指定graph的时候，默认都是用的 `tf.get_default_graph()`"
   ]
  },
  {
   "cell_type": "code",
   "execution_count": 5,
   "metadata": {
    "collapsed": false
   },
   "outputs": [
    {
     "name": "stdout",
     "output_type": "stream",
     "text": [
      "[<tf.Operation 'Add/x' type=Const>, <tf.Operation 'Add/y' type=Const>, <tf.Operation 'Add' type=Add>, <tf.Operation 'Add_1/x' type=Const>, <tf.Operation 'Add_1/y' type=Const>, <tf.Operation 'Add_1' type=Add>, <tf.Operation 'Mul/x' type=Const>, <tf.Operation 'Mul/y' type=Const>, <tf.Operation 'Mul' type=Mul>, <tf.Operation 'Pow' type=Pow>]\n",
      "10\n"
     ]
    }
   ],
   "source": [
    "graph = tf.get_default_graph()\n",
    "print(graph.get_operations())\n",
    "print(graph.version)"
   ]
  },
  {
   "cell_type": "markdown",
   "metadata": {},
   "source": [
    "在tf中，graph包含了 Operation 和 Tensor\n",
    "\n",
    "> A Graph contains a set of tf.Operation objects, which represent units of computation; \n",
    "> and tf.Tensor objects, which represent the units of data that flow between operations.\n",
    "\n",
    "那我们怎么覆盖默认的graph呢？"
   ]
  },
  {
   "cell_type": "code",
   "execution_count": 6,
   "metadata": {
    "collapsed": false
   },
   "outputs": [
    {
     "name": "stdout",
     "output_type": "stream",
     "text": [
      "[<tf.Operation 'Const' type=Const>, <tf.Operation 'Const_1' type=Const>, <tf.Operation 'Add' type=Add>, <tf.Operation 'Mul' type=Mul>, <tf.Operation 'Mul_1' type=Mul>, <tf.Operation 'Pow' type=Pow>]\n",
      "6\n"
     ]
    }
   ],
   "source": [
    "graph = tf.Graph()\n",
    "with graph.as_default():\n",
    "    x = tf.constant(2)\n",
    "    y = tf.constant(3)\n",
    "    op1 = tf.add(x, y)\n",
    "    op2 = tf.multiply(x, y)\n",
    "    useless = tf.multiply(x, op1) # this multipy operation wolud not be run in case 1\n",
    "    op3 = tf.pow(op2, op1)\n",
    "    assert op3.graph is graph\n",
    "print(graph.get_operations())\n",
    "print(graph.version)"
   ]
  },
  {
   "cell_type": "code",
   "execution_count": 7,
   "metadata": {
    "collapsed": false
   },
   "outputs": [
    {
     "name": "stdout",
     "output_type": "stream",
     "text": [
      "7776\n",
      "Tensor(\"Mul_1:0\", shape=(), dtype=int32)\n"
     ]
    }
   ],
   "source": [
    "# case 1\n",
    "with tf.Session(graph = graph) as sess:\n",
    "    op3 = sess.run(op3)\n",
    "    print(op3)\n",
    "    print(useless) # 我们会发现我 useless 没有被执行，因此tf只有用到的才会去执行"
   ]
  },
  {
   "cell_type": "code",
   "execution_count": 8,
   "metadata": {
    "collapsed": false
   },
   "outputs": [
    {
     "name": "stdout",
     "output_type": "stream",
     "text": [
      "[<tf.Operation 'Const' type=Const>, <tf.Operation 'Const_1' type=Const>, <tf.Operation 'Add' type=Add>, <tf.Operation 'Mul' type=Mul>, <tf.Operation 'Mul_1' type=Mul>, <tf.Operation 'Pow' type=Pow>]\n",
      "6\n"
     ]
    }
   ],
   "source": [
    "graph = tf.Graph()\n",
    "with graph.as_default():\n",
    "    x = tf.constant(2)\n",
    "    y = tf.constant(3)\n",
    "    op1 = tf.add(x, y)\n",
    "    op2 = tf.multiply(x, y)\n",
    "    useless = tf.multiply(x, op1) # run this operation\n",
    "    op3 = tf.pow(op2, op1)\n",
    "print(graph.get_operations())\n",
    "print(graph.version)"
   ]
  },
  {
   "cell_type": "code",
   "execution_count": 9,
   "metadata": {
    "collapsed": false
   },
   "outputs": [
    {
     "name": "stdout",
     "output_type": "stream",
     "text": [
      "7776\n",
      "10\n"
     ]
    }
   ],
   "source": [
    "# case 2\n",
    "with tf.Session(graph = graph) as sess:\n",
    "    op3, not_useless = sess.run([op3, useless])\n",
    "    print(op3)\n",
    "    print(not_useless)"
   ]
  },
  {
   "cell_type": "markdown",
   "metadata": {},
   "source": [
    "## 定义计算图"
   ]
  },
  {
   "cell_type": "code",
   "execution_count": 10,
   "metadata": {
    "collapsed": false
   },
   "outputs": [
    {
     "name": "stdout",
     "output_type": "stream",
     "text": [
      "[<tf.Operation 'foo/initial_value' type=Const>, <tf.Operation 'foo' type=VariableV2>, <tf.Operation 'foo/Assign' type=Assign>, <tf.Operation 'foo/read' type=Identity>, <tf.Operation 'init' type=NoOp>, <tf.Operation 'Assign/value' type=Const>, <tf.Operation 'Assign' type=Assign>]\n",
      "7\n"
     ]
    }
   ],
   "source": [
    "graph = tf.Graph()\n",
    "with graph.as_default():\n",
    "    variable = tf.Variable(42, name='foo')\n",
    "    initialize = tf.global_variables_initializer()\n",
    "    assign = variable.assign(13)\n",
    "print(graph.get_operations())\n",
    "print(graph.version)"
   ]
  },
  {
   "cell_type": "markdown",
   "metadata": {},
   "source": [
    "上面我们计算了一个变量，定义变量是因为我们在后续会对变量就行更新，譬如后续的 variable.assign(13) 操作"
   ]
  },
  {
   "cell_type": "code",
   "execution_count": 15,
   "metadata": {
    "collapsed": false
   },
   "outputs": [
    {
     "name": "stdout",
     "output_type": "stream",
     "text": [
      "<tensorflow.python.framework.ops.Graph object at 0x116564710>\n",
      "Tensor(\"foo/read:0\", shape=(), dtype=int32)\n",
      "name: \"init\"\n",
      "op: \"NoOp\"\n",
      "input: \"^foo/Assign\"\n",
      "\n",
      "Tensor(\"Assign:0\", shape=(), dtype=int32_ref)\n"
     ]
    }
   ],
   "source": [
    "print(graph)\n",
    "print(variable)\n",
    "print(initialize)\n",
    "print(assign)"
   ]
  },
  {
   "cell_type": "markdown",
   "metadata": {},
   "source": [
    "我们可以看到此处 variable是一个 read tensor，会需要我们将初始值赋给它，这就需要用到 tf.global_variables_initializer()\n",
    "\n",
    "> Returns an Op that initializes global variables.\n",
    "\n",
    "我们也需要将其在session中执行"
   ]
  },
  {
   "cell_type": "code",
   "execution_count": 16,
   "metadata": {
    "collapsed": false
   },
   "outputs": [
    {
     "name": "stdout",
     "output_type": "stream",
     "text": [
      "13\n"
     ]
    }
   ],
   "source": [
    "with tf.Session(graph = graph) as sess:\n",
    "    sess.run(initialize)\n",
    "    sess.run(assign)\n",
    "    print(sess.run(variable))"
   ]
  },
  {
   "cell_type": "code",
   "execution_count": 19,
   "metadata": {
    "collapsed": false
   },
   "outputs": [],
   "source": [
    "# 如果我们不进行初始化操作呢？\n",
    "with tf.Session(graph = graph) as sess:\n",
    "    print(sess.run(variable))\n",
    "    # FailedPreconditionError: Attempting to use uninitialized value foo"
   ]
  },
  {
   "cell_type": "code",
   "execution_count": 20,
   "metadata": {
    "collapsed": false
   },
   "outputs": [
    {
     "name": "stdout",
     "output_type": "stream",
     "text": [
      "42\n"
     ]
    }
   ],
   "source": [
    "# 只执行 initialize, variable 则返回42，多余的操作不会执行\n",
    "with tf.Session(graph = graph) as sess:\n",
    "    sess.run(initialize)\n",
    "    print(sess.run(variable))"
   ]
  },
  {
   "cell_type": "code",
   "execution_count": null,
   "metadata": {
    "collapsed": true
   },
   "outputs": [],
   "source": []
  }
 ],
 "metadata": {
  "kernelspec": {
   "display_name": "Python 3",
   "language": "python",
   "name": "python3"
  },
  "language_info": {
   "codemirror_mode": {
    "name": "ipython",
    "version": 3
   },
   "file_extension": ".py",
   "mimetype": "text/x-python",
   "name": "python",
   "nbconvert_exporter": "python",
   "pygments_lexer": "ipython3",
   "version": "3.6.0"
  }
 },
 "nbformat": 4,
 "nbformat_minor": 2
}
