{
 "cells": [
  {
   "cell_type": "markdown",
   "metadata": {
    "collapsed": true
   },
   "source": [
    "[干货 | Stanford TensorFlow 学习笔记（2）](http://weixin.sogou.com/weixin?type=2&query=%E5%B9%B2%E8%B4%A7+%7C+Stanford+TensorFlow+%E5%AD%A6%E4%B9%A0%E7%AC%94%E8%AE%B0%EF%BC%882%EF%BC%89&ie=utf8&s_from=input&_sug_=y&_sug_type_=&w=01019900&sut=224&sst0=1491286801214&lkt=1%2C1491286801109%2C1491286801109)\n",
    "\n",
    "[notebook](https://github.com/lightaime/cs20si/blob/master/2_tensorflow_ops.ipynb)\n",
    "\n",
    "[note](http://web.stanford.edu/class/cs20si/lectures/notes_02.pdf)\n",
    "\n",
    "[slides](http://web.stanford.edu/class/cs20si/lectures/slides_02.pdf)\n",
    "\n",
    "## Tensorboard"
   ]
  },
  {
   "cell_type": "code",
   "execution_count": 1,
   "metadata": {
    "collapsed": true
   },
   "outputs": [],
   "source": [
    "# imports\n",
    "import tensorflow as tf"
   ]
  },
  {
   "cell_type": "code",
   "execution_count": 2,
   "metadata": {
    "collapsed": true
   },
   "outputs": [],
   "source": [
    "a = tf.constant(2,name='a')\n",
    "b = tf.constant(3,name='b')\n",
    "x = tf.add(a,b,name='add')"
   ]
  },
  {
   "cell_type": "code",
   "execution_count": 3,
   "metadata": {
    "collapsed": false
   },
   "outputs": [
    {
     "name": "stdout",
     "output_type": "stream",
     "text": [
      "5\n"
     ]
    }
   ],
   "source": [
    "with tf.Session() as sess:\n",
    "    writer = tf.summary.FileWriter('./graphs',sess.graph)\n",
    "    print(sess.run(x))\n",
    "\n",
    "writer.close()"
   ]
  },
  {
   "cell_type": "markdown",
   "metadata": {},
   "source": [
    "Nodes: operators, variables, and constants \n",
    "Edges: tensors \n",
    "Tensors are data.\n",
    "## 随机种子"
   ]
  },
  {
   "cell_type": "code",
   "execution_count": 5,
   "metadata": {
    "collapsed": true
   },
   "outputs": [],
   "source": [
    "rand1 = tf.random_uniform([1])\n",
    "rand2 = tf.random_normal([1])"
   ]
  },
  {
   "cell_type": "code",
   "execution_count": 9,
   "metadata": {
    "collapsed": false
   },
   "outputs": [
    {
     "name": "stdout",
     "output_type": "stream",
     "text": [
      "sess1\n",
      "[ 0.05582166]\n",
      "[ 0.0061698]\n",
      "[ 0.04387387]\n",
      "[ 0.15240751]\n",
      "sess2\n",
      "[ 0.11744046]\n",
      "[ 0.9236573]\n",
      "[-0.31009412]\n",
      "[-0.29965776]\n"
     ]
    }
   ],
   "source": [
    "print(\"sess1\")\n",
    "with tf.Session() as sess:\n",
    "    print(sess.run(rand1))\n",
    "    print(sess.run(rand1))\n",
    "    print(sess.run(rand2))\n",
    "    print(sess.run(rand2))\n",
    "print(\"sess2\")  \n",
    "with tf.Session() as sess:\n",
    "    print(sess.run(rand1))\n",
    "    print(sess.run(rand1))\n",
    "    print(sess.run(rand2))\n",
    "    print(sess.run(rand2))"
   ]
  },
  {
   "cell_type": "markdown",
   "metadata": {},
   "source": [
    "怎么保证每次都产生一样的数呢，这就有初始化随机种子一说，\n",
    "方法一：在操作中初始化"
   ]
  },
  {
   "cell_type": "code",
   "execution_count": 10,
   "metadata": {
    "collapsed": false
   },
   "outputs": [
    {
     "name": "stdout",
     "output_type": "stream",
     "text": [
      "sess1\n",
      "[ 0.23903739]\n",
      "[ 0.22267115]\n",
      "[ 1.21811306]\n",
      "[ 0.27028745]\n",
      "sess2\n",
      "[ 0.23903739]\n",
      "[ 0.22267115]\n",
      "[ 0.64298522]\n",
      "[-1.84742129]\n"
     ]
    }
   ],
   "source": [
    "rand1 = tf.random_uniform([1],seed=1)\n",
    "rand2 = tf.random_normal([1])\n",
    "print(\"sess1\")\n",
    "with tf.Session() as sess:\n",
    "    print(sess.run(rand1))\n",
    "    print(sess.run(rand1))\n",
    "    print(sess.run(rand2))\n",
    "    print(sess.run(rand2))\n",
    "print(\"sess2\")  \n",
    "with tf.Session() as sess:\n",
    "    print(sess.run(rand1))\n",
    "    print(sess.run(rand1))\n",
    "    print(sess.run(rand2))\n",
    "    print(sess.run(rand2))"
   ]
  },
  {
   "cell_type": "markdown",
   "metadata": {},
   "source": [
    "第二种操作方式是图级别的，在图上初始化随机数种子"
   ]
  },
  {
   "cell_type": "code",
   "execution_count": 12,
   "metadata": {
    "collapsed": false
   },
   "outputs": [
    {
     "name": "stdout",
     "output_type": "stream",
     "text": [
      "sess1\n",
      "[ 0.76653159]\n",
      "[ 0.81709814]\n",
      "[ 0.1648351]\n",
      "[ 0.62016422]\n",
      "sess2\n",
      "[ 0.76653159]\n",
      "[ 0.81709814]\n",
      "[ 0.1648351]\n",
      "[ 0.62016422]\n"
     ]
    }
   ],
   "source": [
    "tf.set_random_seed(seed=123)\n",
    "rand1 = tf.random_uniform([1])\n",
    "rand2 = tf.random_normal([1])\n",
    "print(\"sess1\")\n",
    "with tf.Session() as sess:\n",
    "    print(sess.run(rand1))\n",
    "    print(sess.run(rand1))\n",
    "    print(sess.run(rand2))\n",
    "    print(sess.run(rand2))\n",
    "print(\"sess2\")  \n",
    "with tf.Session() as sess:\n",
    "    print(sess.run(rand1))\n",
    "    print(sess.run(rand1))\n",
    "    print(sess.run(rand2))\n",
    "    print(sess.run(rand2))"
   ]
  },
  {
   "cell_type": "markdown",
   "metadata": {},
   "source": [
    "## 变量\n",
    "变量主要包括5部分\n",
    "\n",
    "(1) x = tf.Variable(...) \n",
    "\n",
    "(2) x.initializer # init op \n",
    "\n",
    "(3) x.value() # read op \n",
    "\n",
    "(4) x.assign(...) # write op \n",
    "\n",
    "(5) x.assign_add(...) # and more"
   ]
  },
  {
   "cell_type": "markdown",
   "metadata": {},
   "source": [
    "### 一次性初始化所有变量"
   ]
  },
  {
   "cell_type": "code",
   "execution_count": 19,
   "metadata": {
    "collapsed": true
   },
   "outputs": [],
   "source": [
    "x1 = tf.Variable(1.0)\n",
    "x2 = tf.Variable(3.0)\n",
    "x3 = tf.Variable(4.0)\n",
    "x4 = tf.Variable(5.0)"
   ]
  },
  {
   "cell_type": "code",
   "execution_count": 20,
   "metadata": {
    "collapsed": false
   },
   "outputs": [
    {
     "name": "stdout",
     "output_type": "stream",
     "text": [
      "Tensor(\"Variable_5/read:0\", shape=(), dtype=float32)\n"
     ]
    }
   ],
   "source": [
    "print(x1)"
   ]
  },
  {
   "cell_type": "code",
   "execution_count": 25,
   "metadata": {
    "collapsed": false
   },
   "outputs": [
    {
     "name": "stdout",
     "output_type": "stream",
     "text": [
      "1.0\n",
      "3.0\n",
      "4.0\n",
      "5.0\n"
     ]
    }
   ],
   "source": [
    "with tf.Session() as sess:\n",
    "    sess.run(tf.global_variables_initializer())\n",
    "    print(sess.run(x1)) # 没有初始化\n",
    "    print(sess.run(x2)) # 没有初始化\n",
    "    print(sess.run(x3)) # 没有初始化\n",
    "    print(sess.run(x4)) # 没有初始化\n",
    "#    print(sess.run(x1)) # 没有初始化,会报错"
   ]
  },
  {
   "cell_type": "markdown",
   "metadata": {},
   "source": [
    "### 初始化部分变量"
   ]
  },
  {
   "cell_type": "code",
   "execution_count": 26,
   "metadata": {
    "collapsed": true
   },
   "outputs": [],
   "source": [
    "x5 = tf.Variable(5.0)\n",
    "x6 = tf.Variable(6.0)\n",
    "x7 = tf.Variable(7.0)"
   ]
  },
  {
   "cell_type": "code",
   "execution_count": 32,
   "metadata": {
    "collapsed": false
   },
   "outputs": [
    {
     "name": "stdout",
     "output_type": "stream",
     "text": [
      "5.0\n",
      "6.0\n"
     ]
    }
   ],
   "source": [
    "x56 = tf.variables_initializer([x5,x6])\n",
    "with tf.Session() as sess:\n",
    "    sess.run(x56)\n",
    "    print(sess.run(x5))\n",
    "    print(sess.run(x6))\n",
    "#    print(sess.run(x7)) # error, 未初始化"
   ]
  },
  {
   "cell_type": "markdown",
   "metadata": {},
   "source": [
    "### 初始化单个变量"
   ]
  },
  {
   "cell_type": "code",
   "execution_count": 35,
   "metadata": {
    "collapsed": true
   },
   "outputs": [],
   "source": [
    "x8 = tf.Variable(tf.zeros([1,2]))"
   ]
  },
  {
   "cell_type": "code",
   "execution_count": 45,
   "metadata": {
    "collapsed": false
   },
   "outputs": [
    {
     "name": "stdout",
     "output_type": "stream",
     "text": [
      "Tensor(\"Variable_12/read:0\", shape=(1, 2), dtype=float32)\n",
      "[[ 0.  0.]]\n"
     ]
    }
   ],
   "source": [
    "with tf.Session() as sess:\n",
    "    sess.run(x8.initializer) # 初始化\n",
    "    print(x8.value())\n",
    "    print(x8.eval()) # eval 的作用是"
   ]
  },
  {
   "cell_type": "code",
   "execution_count": 47,
   "metadata": {
    "collapsed": false
   },
   "outputs": [
    {
     "name": "stdout",
     "output_type": "stream",
     "text": [
      "[[ 1.  2.]]\n"
     ]
    }
   ],
   "source": [
    "assign_op = x8.assign([[1,2]])\n",
    "with tf.Session() as sess:\n",
    "    sess.run(assign_op) # 此处执行完 assign 操作后，就不再需要执行 initializer 了，其实 initializer 操作就是执行了 assign 操作\n",
    "    print(x8.eval())"
   ]
  },
  {
   "cell_type": "markdown",
   "metadata": {},
   "source": [
    "## 控制依赖\n",
    "控制依赖的作用是帮我们检查我们依赖的变量是否都已经初始化了"
   ]
  },
  {
   "cell_type": "code",
   "execution_count": 61,
   "metadata": {
    "collapsed": false
   },
   "outputs": [],
   "source": [
    "g = tf.Graph()"
   ]
  },
  {
   "cell_type": "code",
   "execution_count": 62,
   "metadata": {
    "collapsed": true
   },
   "outputs": [],
   "source": [
    "with g.as_default():\n",
    "    gx1 = tf.Variable(1.0)\n",
    "    gx2 = tf.Variable(2.0)"
   ]
  },
  {
   "cell_type": "code",
   "execution_count": null,
   "metadata": {
    "collapsed": true
   },
   "outputs": [],
   "source": []
  }
 ],
 "metadata": {
  "kernelspec": {
   "display_name": "Python 3",
   "language": "python",
   "name": "python3"
  },
  "language_info": {
   "codemirror_mode": {
    "name": "ipython",
    "version": 3
   },
   "file_extension": ".py",
   "mimetype": "text/x-python",
   "name": "python",
   "nbconvert_exporter": "python",
   "pygments_lexer": "ipython3",
   "version": "3.6.0"
  }
 },
 "nbformat": 4,
 "nbformat_minor": 2
}
