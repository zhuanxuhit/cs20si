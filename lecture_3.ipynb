{
  "nbformat": 4,
  "nbformat_minor": 0,
  "metadata": {
    "colab": {
      "name": "lecture_3.ipynb",
      "version": "0.3.2",
      "provenance": [],
      "collapsed_sections": [],
      "include_colab_link": true
    },
    "kernelspec": {
      "name": "python3",
      "display_name": "Python 3"
    }
  },
  "cells": [
    {
      "cell_type": "markdown",
      "metadata": {
        "id": "view-in-github",
        "colab_type": "text"
      },
      "source": [
        "<a href=\"https://colab.research.google.com/github/zhuanxuhit/cs20si/blob/master/lecture_3.ipynb\" target=\"_parent\"><img src=\"https://colab.research.google.com/assets/colab-badge.svg\" alt=\"Open In Colab\"/></a>"
      ]
    },
    {
      "metadata": {
        "id": "KJbQXyfMiRPX",
        "colab_type": "text"
      },
      "cell_type": "markdown",
      "source": [
        "## 线性模型\n",
        "分两步走：\n",
        "1. 定义模型\n",
        "2. 计算"
      ]
    },
    {
      "metadata": {
        "id": "GWmO6zbWiQyS",
        "colab_type": "code",
        "outputId": "884e76ec-b517-4baf-86ee-02d93059a3a9",
        "colab": {
          "base_uri": "https://localhost:8080/",
          "height": 102
        }
      },
      "cell_type": "code",
      "source": [
        "!git clone https://github.com/chiphuyen/stanford-tensorflow-tutorials.git tutorials"
      ],
      "execution_count": 1,
      "outputs": [
        {
          "output_type": "stream",
          "text": [
            "Cloning into 'tutorials'...\n",
            "remote: Enumerating objects: 635, done.\u001b[K\n",
            "remote: Total 635 (delta 0), reused 0 (delta 0), pack-reused 635\u001b[K\n",
            "Receiving objects: 100% (635/635), 13.71 MiB | 20.37 MiB/s, done.\n",
            "Resolving deltas: 100% (246/246), done.\n"
          ],
          "name": "stdout"
        }
      ]
    },
    {
      "metadata": {
        "id": "A99mcTvlABxA",
        "colab_type": "code",
        "outputId": "e8bb79b5-c47f-440c-f45b-12f5c302b4c2",
        "colab": {
          "base_uri": "https://localhost:8080/",
          "height": 34
        }
      },
      "cell_type": "code",
      "source": [
        "!ls  tutorials"
      ],
      "execution_count": 2,
      "outputs": [
        {
          "output_type": "stream",
          "text": [
            "2017  assignments  examples  LICENSE  README.md  setup\n"
          ],
          "name": "stdout"
        }
      ]
    },
    {
      "metadata": {
        "id": "67B4zgZ6_Yad",
        "colab_type": "code",
        "colab": {}
      },
      "cell_type": "code",
      "source": [
        "import os\n",
        "os.environ['TF_CPP_MIN_LOG_LEVEL']='2'\n",
        "import time\n",
        "\n",
        "import numpy as np\n",
        "import matplotlib.pyplot as plt\n",
        "import tensorflow as tf\n",
        "\n",
        "# import utils"
      ],
      "execution_count": 0,
      "outputs": []
    },
    {
      "metadata": {
        "id": "LDJ3GNgS_ycG",
        "colab_type": "code",
        "colab": {}
      },
      "cell_type": "code",
      "source": [
        "DATA_FILE = 'tutorials/examples/data/birth_life_2010.txt'"
      ],
      "execution_count": 0,
      "outputs": []
    },
    {
      "metadata": {
        "id": "FUAZJ8f0_6Wj",
        "colab_type": "code",
        "colab": {}
      },
      "cell_type": "code",
      "source": [
        "import tutorials.examples.utils as utils"
      ],
      "execution_count": 0,
      "outputs": []
    },
    {
      "metadata": {
        "id": "q3diClLTAQuB",
        "colab_type": "code",
        "colab": {}
      },
      "cell_type": "code",
      "source": [
        "# Step 1: read in the data\n",
        "data, n_samples = utils.read_birth_life_data(DATA_FILE)"
      ],
      "execution_count": 0,
      "outputs": []
    },
    {
      "metadata": {
        "id": "YPr2rTPRCZt9",
        "colab_type": "text"
      },
      "cell_type": "markdown",
      "source": [
        "看下data数据的结构"
      ]
    },
    {
      "metadata": {
        "id": "br9yvzjuCdOf",
        "colab_type": "code",
        "outputId": "65484489-c66d-4125-bd8a-1716f94a5e88",
        "colab": {
          "base_uri": "https://localhost:8080/",
          "height": 34
        }
      },
      "cell_type": "code",
      "source": [
        "data[0]"
      ],
      "execution_count": 10,
      "outputs": [
        {
          "output_type": "execute_result",
          "data": {
            "text/plain": [
              "array([ 1.822  , 74.82825], dtype=float32)"
            ]
          },
          "metadata": {
            "tags": []
          },
          "execution_count": 10
        }
      ]
    },
    {
      "metadata": {
        "id": "uDr35EZWAeLb",
        "colab_type": "code",
        "colab": {}
      },
      "cell_type": "code",
      "source": [
        "# Step 2: create placeholders for X (birth rate) and Y (life expectancy)\n",
        "# Remember both X and Y are scalars with type float\n",
        "X, Y = tf.placeholder(tf.float32, name=\"X\",shape=[]), tf.placeholder(tf.float32, name=\"Y\")"
      ],
      "execution_count": 0,
      "outputs": []
    },
    {
      "metadata": {
        "id": "sFiAWJ1nAljH",
        "colab_type": "code",
        "colab": {}
      },
      "cell_type": "code",
      "source": [
        "# Step 3: create weight and bias, initialized to 0.0\n",
        "# Make sure to use tf.get_variable\n",
        "w, b = tf.get_variable(name=\"w\", dtype=tf.float32, initializer=tf.constant(0.0)), tf.get_variable(name=\"b\", dtype=tf.float32, initializer=tf.constant(0.0))"
      ],
      "execution_count": 0,
      "outputs": []
    },
    {
      "metadata": {
        "id": "bHExepUZCzKG",
        "colab_type": "code",
        "colab": {}
      },
      "cell_type": "code",
      "source": [
        "# Step 4: build model to predict Y\n",
        "Y_predicted = w * X + b "
      ],
      "execution_count": 0,
      "outputs": []
    },
    {
      "metadata": {
        "id": "D9yB42qaDUgf",
        "colab_type": "code",
        "colab": {}
      },
      "cell_type": "code",
      "source": [
        "# Step 5: use the squared error as the loss function\n",
        "# you can use either mean squared error or Huber loss\n",
        "loss = tf.square(Y - Y_predicted, name='loss')\n",
        "# loss = utils.huber_loss(Y, Y_predicted)"
      ],
      "execution_count": 0,
      "outputs": []
    },
    {
      "metadata": {
        "id": "YR5KvUbiDW65",
        "colab_type": "code",
        "colab": {}
      },
      "cell_type": "code",
      "source": [
        "# Step 6: using gradient descent with learning rate of 0.001 to minimize loss\n",
        "optimizer = tf.train.GradientDescentOptimizer(learning_rate=0.001).minimize(loss)\n"
      ],
      "execution_count": 0,
      "outputs": []
    },
    {
      "metadata": {
        "id": "H62fHTFFDYmK",
        "colab_type": "code",
        "outputId": "9e862d29-a957-410f-ff40-63ae0231ebff",
        "colab": {
          "base_uri": "https://localhost:8080/",
          "height": 1734
        }
      },
      "cell_type": "code",
      "source": [
        "start = time.time()\n",
        "writer = tf.summary.FileWriter('./graphs/linear_reg', tf.get_default_graph())\n",
        "with tf.Session() as sess:\n",
        "\t# Step 7: initialize the necessary variables, in this case, w and b\n",
        "\tsess.run(tf.global_variables_initializer()) \n",
        "\t\n",
        "\t# Step 8: train the model for 100 epochs\n",
        "\tfor i in range(100): \n",
        "\t\ttotal_loss = 0\n",
        "\t\tfor x, y in data:\n",
        "\t\t\t# Session execute optimizer and fetch values of loss\n",
        "\t\t\t_, l = sess.run([optimizer, loss], feed_dict={X: x, Y:y}) \n",
        "\t\t\ttotal_loss += l\n",
        "\t\tprint('Epoch {0}: {1}'.format(i, total_loss/n_samples))\n",
        "\n",
        "\t# close the writer when you're done using it\n",
        "\twriter.close() \n",
        "\t\n",
        "\t# Step 9: output the values of w and b\n",
        "\tw_out, b_out = sess.run([w, b]) \n",
        "  \n",
        "print('Took: %f seconds' %(time.time() - start))"
      ],
      "execution_count": 20,
      "outputs": [
        {
          "output_type": "stream",
          "text": [
            "Epoch 0: 1661.8637834631543\n",
            "Epoch 1: 956.3224148609137\n",
            "Epoch 2: 844.6737023980994\n",
            "Epoch 3: 750.7312486011339\n",
            "Epoch 4: 667.6598341012079\n",
            "Epoch 5: 594.1417715627896\n",
            "Epoch 6: 529.07878103068\n",
            "Epoch 7: 471.5004191489204\n",
            "Epoch 8: 420.5458626462441\n",
            "Epoch 9: 375.45530721966765\n",
            "Epoch 10: 335.5543025185697\n",
            "Epoch 11: 300.24629857978107\n",
            "Epoch 12: 269.00376475843336\n",
            "Epoch 13: 241.35957466852116\n",
            "Epoch 14: 216.90039135300015\n",
            "Epoch 15: 195.25972298129324\n",
            "Epoch 16: 176.1137693605349\n",
            "Epoch 17: 159.17551693441837\n",
            "Epoch 18: 144.1907111125557\n",
            "Epoch 19: 130.93503488078713\n",
            "Epoch 20: 119.20935661137888\n",
            "Epoch 21: 108.8379309807855\n",
            "Epoch 22: 99.66466760624593\n",
            "Epoch 23: 91.55177013029001\n",
            "Epoch 24: 84.37664046781751\n",
            "Epoch 25: 78.03217824997724\n",
            "Epoch 26: 72.42182927812989\n",
            "Epoch 27: 67.46136239485718\n",
            "Epoch 28: 63.07566952367442\n",
            "Epoch 29: 59.19874146522856\n",
            "Epoch 30: 55.77168446383194\n",
            "Epoch 31: 52.74269822355127\n",
            "Epoch 32: 50.065632780875376\n",
            "Epoch 33: 47.70006421631674\n",
            "Epoch 34: 45.61017902122909\n",
            "Epoch 35: 43.76379750625255\n",
            "Epoch 36: 42.13259221098116\n",
            "Epoch 37: 40.69221939330516\n",
            "Epoch 38: 39.420219863367905\n",
            "Epoch 39: 38.297008645340895\n",
            "Epoch 40: 37.305591759538146\n",
            "Epoch 41: 36.43066341609841\n",
            "Epoch 42: 35.658453942681234\n",
            "Epoch 43: 34.97724816803575\n",
            "Epoch 44: 34.37655378567349\n",
            "Epoch 45: 33.84671358035044\n",
            "Epoch 46: 33.379665882282545\n",
            "Epoch 47: 32.96800991297258\n",
            "Epoch 48: 32.60548541990942\n",
            "Epoch 49: 32.28618434173986\n",
            "Epoch 50: 32.004961317298495\n",
            "Epoch 51: 31.757531331044525\n",
            "Epoch 52: 31.53978877073019\n",
            "Epoch 53: 31.348356819100445\n",
            "Epoch 54: 31.180119247269193\n",
            "Epoch 55: 31.03225782010038\n",
            "Epoch 56: 30.902462910201574\n",
            "Epoch 57: 30.78859985760776\n",
            "Epoch 58: 30.688725355066556\n",
            "Epoch 59: 30.60122861903357\n",
            "Epoch 60: 30.524590178362192\n",
            "Epoch 61: 30.457532704476954\n",
            "Epoch 62: 30.398967422668726\n",
            "Epoch 63: 30.34777825418737\n",
            "Epoch 64: 30.303121465726413\n",
            "Epoch 65: 30.26424930739051\n",
            "Epoch 66: 30.230392129550456\n",
            "Epoch 67: 30.200964921590334\n",
            "Epoch 68: 30.175501555469697\n",
            "Epoch 69: 30.153343991707324\n",
            "Epoch 70: 30.134226098457216\n",
            "Epoch 71: 30.117758308603477\n",
            "Epoch 72: 30.103543774372174\n",
            "Epoch 73: 30.09139442229674\n",
            "Epoch 74: 30.0809388476427\n",
            "Epoch 75: 30.07208499982095\n",
            "Epoch 76: 30.06452690966084\n",
            "Epoch 77: 30.058150938555205\n",
            "Epoch 78: 30.05278219980139\n",
            "Epoch 79: 30.04828310612785\n",
            "Epoch 80: 30.04458791257593\n",
            "Epoch 81: 30.041550708114855\n",
            "Epoch 82: 30.039046437352113\n",
            "Epoch 83: 30.03704103724602\n",
            "Epoch 84: 30.03545715799831\n",
            "Epoch 85: 30.034288759106282\n",
            "Epoch 86: 30.03338805212261\n",
            "Epoch 87: 30.032769865304076\n",
            "Epoch 88: 30.032386838833535\n",
            "Epoch 89: 30.032150670733166\n",
            "Epoch 90: 30.032092865493677\n",
            "Epoch 91: 30.032186730024037\n",
            "Epoch 92: 30.03240725137661\n",
            "Epoch 93: 30.032643962397827\n",
            "Epoch 94: 30.033039376884087\n",
            "Epoch 95: 30.033435566514413\n",
            "Epoch 96: 30.033922631802085\n",
            "Epoch 97: 30.03442924663878\n",
            "Epoch 98: 30.0349335548615\n",
            "Epoch 99: 30.03552558278714\n",
            "Took: 8.803613 seconds\n"
          ],
          "name": "stdout"
        }
      ]
    },
    {
      "metadata": {
        "id": "nc6wPdCuDvcF",
        "colab_type": "code",
        "outputId": "ccaeec3e-066d-4b40-8840-8e0d22cdbf3e",
        "colab": {
          "base_uri": "https://localhost:8080/",
          "height": 351
        }
      },
      "cell_type": "code",
      "source": [
        "# plot the results\n",
        "plt.plot(data[:,0], data[:,1], 'bo', label='Real data')\n",
        "plt.plot(data[:,0], data[:,0] * w_out + b_out, 'r', label='Predicted data')\n",
        "plt.legend()\n",
        "plt.show()"
      ],
      "execution_count": 21,
      "outputs": [
        {
          "output_type": "display_data",
          "data": {
            "image/png": "[encoded data removed]",
            "text/plain": [
              "<matplotlib.figure.Figure at 0x7fd71db2c748>"
            ]
          },
          "metadata": {
            "tags": []
          }
        }
      ]
    },
    {
      "metadata": {
        "id": "ZMv3FhBVEKlj",
        "colab_type": "code",
        "colab": {}
      },
      "cell_type": "code",
      "source": [
        ""
      ],
      "execution_count": 0,
      "outputs": []
    }
  ]
}