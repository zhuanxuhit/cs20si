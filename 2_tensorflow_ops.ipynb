{
  "nbformat": 4,
  "nbformat_minor": 0,
  "metadata": {
    "colab": {
      "name": "2_tensorflow_ops.ipynb",
      "version": "0.3.2",
      "provenance": [],
      "collapsed_sections": [
        "e6kV-uy7ozd_"
      ],
      "include_colab_link": true
    },
    "kernelspec": {
      "name": "python3",
      "display_name": "Python 3"
    }
  },
  "cells": [
    {
      "cell_type": "markdown",
      "metadata": {
        "id": "view-in-github",
        "colab_type": "text"
      },
      "source": [
        "<a href=\"https://colab.research.google.com/github/zhuanxuhit/cs20si/blob/master/2_tensorflow_ops.ipynb\" target=\"_parent\"><img src=\"https://colab.research.google.com/assets/colab-badge.svg\" alt=\"Open In Colab\"/></a>"
      ]
    },
    {
      "metadata": {
        "id": "I60Go3lUnZEV",
        "colab_type": "code",
        "colab": {}
      },
      "cell_type": "code",
      "source": [
        "import tensorflow as tf\n",
        "import numpy as np"
      ],
      "execution_count": 0,
      "outputs": []
    },
    {
      "metadata": {
        "id": "olcuLl4Anywd",
        "colab_type": "code",
        "colab": {}
      },
      "cell_type": "code",
      "source": [
        "# 使用默认的graph\n",
        "a = tf.constant(2)\n",
        "b = tf.constant(3)\n",
        "x = tf.add(a, b)"
      ],
      "execution_count": 0,
      "outputs": []
    },
    {
      "metadata": {
        "id": "i0ijR6K-oBOV",
        "colab_type": "code",
        "outputId": "9b0bcac3-8972-468c-c7ad-557f21ca62a4",
        "colab": {
          "base_uri": "https://localhost:8080/",
          "height": 34
        }
      },
      "cell_type": "code",
      "source": [
        "x.op.name"
      ],
      "execution_count": 3,
      "outputs": [
        {
          "output_type": "execute_result",
          "data": {
            "text/plain": [
              "'Add'"
            ]
          },
          "metadata": {
            "tags": []
          },
          "execution_count": 3
        }
      ]
    },
    {
      "metadata": {
        "id": "eLbxe5WqoGbm",
        "colab_type": "code",
        "outputId": "e2e3b313-a803-480f-cb03-1325be6a2feb",
        "colab": {
          "base_uri": "https://localhost:8080/",
          "height": 34
        }
      },
      "cell_type": "code",
      "source": [
        "with tf.Session() as sess:\n",
        "  x_out = sess.run(x)\n",
        "  print(x_out)"
      ],
      "execution_count": 4,
      "outputs": [
        {
          "output_type": "stream",
          "text": [
            "5\n"
          ],
          "name": "stdout"
        }
      ]
    },
    {
      "metadata": {
        "id": "nVgj53T2oQAG",
        "colab_type": "code",
        "outputId": "fdd263f4-2a7a-46e9-afdc-13334d26bbb9",
        "colab": {
          "base_uri": "https://localhost:8080/",
          "height": 34
        }
      },
      "cell_type": "code",
      "source": [
        "print(sess)"
      ],
      "execution_count": 5,
      "outputs": [
        {
          "output_type": "stream",
          "text": [
            "<tensorflow.python.client.session.Session object at 0x7f497b083c88>\n"
          ],
          "name": "stdout"
        }
      ]
    },
    {
      "metadata": {
        "id": "e6kV-uy7ozd_",
        "colab_type": "text"
      },
      "cell_type": "markdown",
      "source": [
        "## tensorboard的使用\n",
        "tensorboard 是将graph存储"
      ]
    },
    {
      "metadata": {
        "id": "OYQw2NOjo466",
        "colab_type": "code",
        "colab": {}
      },
      "cell_type": "code",
      "source": [
        "writer = tf.summary.FileWriter('./graphs_test1', sess.graph)"
      ],
      "execution_count": 0,
      "outputs": []
    },
    {
      "metadata": {
        "id": "NptceX6lo8AD",
        "colab_type": "code",
        "colab": {}
      },
      "cell_type": "code",
      "source": [
        "writer.close()"
      ],
      "execution_count": 0,
      "outputs": []
    },
    {
      "metadata": {
        "id": "6XHjXlcTpIk7",
        "colab_type": "code",
        "outputId": "39ca9695-a320-43da-83da-becf15a37579",
        "colab": {
          "base_uri": "https://localhost:8080/",
          "height": 34
        }
      },
      "cell_type": "code",
      "source": [
        "!ls"
      ],
      "execution_count": 0,
      "outputs": [
        {
          "output_type": "stream",
          "text": [
            "graphs_test1  sample_data\n"
          ],
          "name": "stdout"
        }
      ]
    },
    {
      "metadata": {
        "id": "5BIJesvFpJKL",
        "colab_type": "code",
        "outputId": "9b0f0618-19c8-4cbe-d0cb-b38d87f623d7",
        "colab": {
          "base_uri": "https://localhost:8080/",
          "height": 34
        }
      },
      "cell_type": "code",
      "source": [
        "!ls graphs_test1/"
      ],
      "execution_count": 0,
      "outputs": [
        {
          "output_type": "stream",
          "text": [
            "events.out.tfevents.1543766262.7ddd1c30450f\n"
          ],
          "name": "stdout"
        }
      ]
    },
    {
      "metadata": {
        "id": "jXUXZ0ImpNJk",
        "colab_type": "code",
        "colab": {}
      },
      "cell_type": "code",
      "source": [
        "# !tensorboard --logdir=\"./graphs_test1\""
      ],
      "execution_count": 0,
      "outputs": []
    },
    {
      "metadata": {
        "id": "kMvUn3yPq5XE",
        "colab_type": "text"
      },
      "cell_type": "markdown",
      "source": [
        "## Constants, Sequences, Variables, Ops\n",
        "首先是常量，常量的定义如下：\n",
        "\n",
        "```\n",
        "tf.constant(\n",
        "    value,\n",
        "    dtype=None,\n",
        "    shape=None,\n",
        "    name='Const',\n",
        "    verify_shape=False\n",
        ")\n",
        "```\n",
        "[文档](https://www.tensorflow.org/api_docs/python/tf/constant?hl=zh-cn)\n",
        "\n",
        "两个不同维度const预算，broadcasting 规则同numpy"
      ]
    },
    {
      "metadata": {
        "id": "Y_FmvtrrrMcP",
        "colab_type": "code",
        "outputId": "57a77474-edc2-4a88-806a-86809b028d0e",
        "colab": {
          "base_uri": "https://localhost:8080/",
          "height": 51
        }
      },
      "cell_type": "code",
      "source": [
        "a = tf.constant([2, 2], name='a')\n",
        "b = tf.constant([[0, 1], [2, 3]], name='b')\n",
        "x = tf.multiply(a, b, name='mul')\n",
        "with tf.Session() as sess:\n",
        "  print(sess.run(x))"
      ],
      "execution_count": 6,
      "outputs": [
        {
          "output_type": "stream",
          "text": [
            "[[0 2]\n",
            " [4 6]]\n"
          ],
          "name": "stdout"
        }
      ]
    },
    {
      "metadata": {
        "id": "nLqaV03zrP8x",
        "colab_type": "code",
        "outputId": "868dcb45-1088-4d64-f6d3-6ec1b886ac76",
        "colab": {
          "base_uri": "https://localhost:8080/",
          "height": 493
        }
      },
      "cell_type": "code",
      "source": [
        "g = tf.Graph()\n",
        "with g.as_default():\n",
        "  my_const = tf.constant([1.0, 2.0], name=\"my_const\")\n",
        "with tf.Session(graph=g) as sess:\n",
        "\tprint(sess.graph.as_graph_def())"
      ],
      "execution_count": 7,
      "outputs": [
        {
          "output_type": "stream",
          "text": [
            "node {\n",
            "  name: \"my_const\"\n",
            "  op: \"Const\"\n",
            "  attr {\n",
            "    key: \"dtype\"\n",
            "    value {\n",
            "      type: DT_FLOAT\n",
            "    }\n",
            "  }\n",
            "  attr {\n",
            "    key: \"value\"\n",
            "    value {\n",
            "      tensor {\n",
            "        dtype: DT_FLOAT\n",
            "        tensor_shape {\n",
            "          dim {\n",
            "            size: 2\n",
            "          }\n",
            "        }\n",
            "        tensor_content: \"\\000\\000\\200?\\000\\000\\000@\"\n",
            "      }\n",
            "    }\n",
            "  }\n",
            "}\n",
            "versions {\n",
            "  producer: 27\n",
            "}\n",
            "\n"
          ],
          "name": "stdout"
        }
      ]
    },
    {
      "metadata": {
        "id": "jx6s-0GkxftS",
        "colab_type": "code",
        "colab": {}
      },
      "cell_type": "code",
      "source": [
        "zero_a = tf.zeros([2, 3], tf.int32)"
      ],
      "execution_count": 0,
      "outputs": []
    },
    {
      "metadata": {
        "id": "pcTS1jcZxk4I",
        "colab_type": "code",
        "colab": {
          "base_uri": "https://localhost:8080/",
          "height": 34
        },
        "outputId": "0937350e-2eb1-405b-9f1d-aa4ee6c7e7cc"
      },
      "cell_type": "code",
      "source": [
        "zero_a.op.name"
      ],
      "execution_count": 9,
      "outputs": [
        {
          "output_type": "execute_result",
          "data": {
            "text/plain": [
              "'zeros'"
            ]
          },
          "metadata": {
            "tags": []
          },
          "execution_count": 9
        }
      ]
    },
    {
      "metadata": {
        "id": "VN0yAUfCvqeH",
        "colab_type": "code",
        "outputId": "f3fc60c4-686c-4355-9621-9f71fbc1dd0f",
        "colab": {
          "base_uri": "https://localhost:8080/",
          "height": 34
        }
      },
      "cell_type": "code",
      "source": [
        "W = tf.Variable(10)\n",
        "assign_op = W.assign(100)\n",
        "with tf.Session() as sess:\n",
        "#   sess.run(W.initializer)\n",
        "  sess.run(assign_op)\n",
        "  print(W.eval()) \n"
      ],
      "execution_count": 0,
      "outputs": [
        {
          "output_type": "stream",
          "text": [
            "100\n"
          ],
          "name": "stdout"
        }
      ]
    },
    {
      "metadata": {
        "id": "hPGUwnely900",
        "colab_type": "code",
        "outputId": "aca4475c-a0b4-43a2-8e83-4a8a21ad476d",
        "colab": {
          "base_uri": "https://localhost:8080/",
          "height": 34
        }
      },
      "cell_type": "code",
      "source": [
        "W = tf.Variable(10)\n",
        "assign_op = W.assign(100)\n",
        "with tf.Session() as sess:\n",
        "  sess.run(W.initializer)\n",
        "#   sess.run(assign_op)\n",
        "  print(W.eval()) "
      ],
      "execution_count": 0,
      "outputs": [
        {
          "output_type": "stream",
          "text": [
            "10\n"
          ],
          "name": "stdout"
        }
      ]
    },
    {
      "metadata": {
        "id": "DyL72t4mzBkN",
        "colab_type": "code",
        "colab": {
          "base_uri": "https://localhost:8080/",
          "height": 34
        },
        "outputId": "4ca8a83b-b783-41c3-da0f-8d15411bd2e5"
      },
      "cell_type": "code",
      "source": [
        "tf.fill([1,2], 0.1)"
      ],
      "execution_count": 10,
      "outputs": [
        {
          "output_type": "execute_result",
          "data": {
            "text/plain": [
              "<tf.Tensor 'Fill:0' shape=(1, 2) dtype=float32>"
            ]
          },
          "metadata": {
            "tags": []
          },
          "execution_count": 10
        }
      ]
    },
    {
      "metadata": {
        "id": "X9KLOhqoyAuv",
        "colab_type": "code",
        "colab": {}
      },
      "cell_type": "code",
      "source": [
        ""
      ],
      "execution_count": 0,
      "outputs": []
    }
  ]
}