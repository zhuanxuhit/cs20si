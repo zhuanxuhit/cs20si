{
  "nbformat": 4,
  "nbformat_minor": 0,
  "metadata": {
    "colab": {
      "name": "03_logreg_starter.ipynb",
      "version": "0.3.2",
      "provenance": [],
      "collapsed_sections": [],
      "include_colab_link": true
    },
    "kernelspec": {
      "name": "python3",
      "display_name": "Python 3"
    }
  },
  "cells": [
    {
      "cell_type": "markdown",
      "metadata": {
        "id": "view-in-github",
        "colab_type": "text"
      },
      "source": [
        "<a href=\"https://colab.research.google.com/github/zhuanxuhit/cs20si/blob/master/03_logreg_starter.ipynb\" target=\"_parent\"><img src=\"https://colab.research.google.com/assets/colab-badge.svg\" alt=\"Open In Colab\"/></a>"
      ]
    },
    {
      "metadata": {
        "id": "iyWDtEtM24Mv",
        "colab_type": "text"
      },
      "cell_type": "markdown",
      "source": [
        "参考 [TensorFlow全新的数据读取方式：Dataset API入门教程](https://zhuanlan.zhihu.com/p/30751039)"
      ]
    },
    {
      "metadata": {
        "id": "e05ccgQHu3JW",
        "colab_type": "code",
        "outputId": "ac08ae7a-9185-46ae-9676-77b2593ff978",
        "colab": {
          "base_uri": "https://localhost:8080/",
          "height": 34
        }
      },
      "cell_type": "code",
      "source": [
        "!git clone https://github.com/chiphuyen/stanford-tensorflow-tutorials.git tutorials"
      ],
      "execution_count": 1,
      "outputs": [
        {
          "output_type": "stream",
          "text": [
            "fatal: destination path 'tutorials' already exists and is not an empty directory.\n"
          ],
          "name": "stdout"
        }
      ]
    },
    {
      "metadata": {
        "id": "zRbjO1TavQ9r",
        "colab_type": "code",
        "colab": {}
      },
      "cell_type": "code",
      "source": [
        "import os\n",
        "os.environ['TF_CPP_MIN_LOG_LEVEL']='2'\n",
        "import time\n",
        "\n",
        "import numpy as np\n",
        "import matplotlib.pyplot as plt\n",
        "import tensorflow as tf\n",
        "\n",
        "# import utils"
      ],
      "execution_count": 0,
      "outputs": []
    },
    {
      "metadata": {
        "id": "_9A4czGmzB3h",
        "colab_type": "code",
        "colab": {}
      },
      "cell_type": "code",
      "source": [
        "# Define paramaters for the model\n",
        "learning_rate = 0.01\n",
        "batch_size = 128\n",
        "n_epochs = 30\n",
        "n_train = 60000\n",
        "n_test = 10000\n"
      ],
      "execution_count": 0,
      "outputs": []
    },
    {
      "metadata": {
        "id": "xhL5v00DvSl5",
        "colab_type": "code",
        "colab": {}
      },
      "cell_type": "code",
      "source": [
        "mnist_folder = 'data/mnist'"
      ],
      "execution_count": 0,
      "outputs": []
    },
    {
      "metadata": {
        "id": "AdXl4jyNvt_C",
        "colab_type": "code",
        "outputId": "aed88a83-70c9-41b8-9460-3218638fea01",
        "colab": {
          "base_uri": "https://localhost:8080/",
          "height": 51
        }
      },
      "cell_type": "code",
      "source": [
        "!mkdir -pv data/mnist"
      ],
      "execution_count": 4,
      "outputs": [
        {
          "output_type": "stream",
          "text": [
            "mkdir: created directory 'data'\n",
            "mkdir: created directory 'data/mnist'\n"
          ],
          "name": "stdout"
        }
      ]
    },
    {
      "metadata": {
        "id": "4_MwLx3Qvk60",
        "colab_type": "code",
        "colab": {}
      },
      "cell_type": "code",
      "source": [
        "import tutorials.examples.utils as utils"
      ],
      "execution_count": 0,
      "outputs": []
    },
    {
      "metadata": {
        "id": "CTuzueOEvnwU",
        "colab_type": "code",
        "outputId": "16bbc2d9-0836-4a61-8232-c9e8d2e4edd8",
        "colab": {
          "base_uri": "https://localhost:8080/",
          "height": 153
        }
      },
      "cell_type": "code",
      "source": [
        "utils.download_mnist(mnist_folder)\n",
        "train, val, test = utils.read_mnist(mnist_folder, flatten=True)"
      ],
      "execution_count": 6,
      "outputs": [
        {
          "output_type": "stream",
          "text": [
            "Downloading http://yann.lecun.com/exdb/mnist/train-images-idx3-ubyte.gz\n",
            "Successfully downloaded data/mnist/train-images-idx3-ubyte.gz\n",
            "Downloading http://yann.lecun.com/exdb/mnist/train-labels-idx1-ubyte.gz\n",
            "Successfully downloaded data/mnist/train-labels-idx1-ubyte.gz\n",
            "Downloading http://yann.lecun.com/exdb/mnist/t10k-images-idx3-ubyte.gz\n",
            "Successfully downloaded data/mnist/t10k-images-idx3-ubyte.gz\n",
            "Downloading http://yann.lecun.com/exdb/mnist/t10k-labels-idx1-ubyte.gz\n",
            "Successfully downloaded data/mnist/t10k-labels-idx1-ubyte.gz\n"
          ],
          "name": "stdout"
        }
      ]
    },
    {
      "metadata": {
        "id": "XrtWM1a7vqYC",
        "colab_type": "code",
        "colab": {
          "base_uri": "https://localhost:8080/",
          "height": 34
        },
        "outputId": "bdff8d12-df88-467a-dd6d-02edf4f4e141"
      },
      "cell_type": "code",
      "source": [
        "len(train),len(train[0])"
      ],
      "execution_count": 7,
      "outputs": [
        {
          "output_type": "execute_result",
          "data": {
            "text/plain": [
              "(2, 55000)"
            ]
          },
          "metadata": {
            "tags": []
          },
          "execution_count": 7
        }
      ]
    },
    {
      "metadata": {
        "id": "lvwjv1Cvx8l4",
        "colab_type": "code",
        "colab": {
          "base_uri": "https://localhost:8080/",
          "height": 34
        },
        "outputId": "54a758bd-9aa7-4c22-f232-eab2b9424bf7"
      },
      "cell_type": "code",
      "source": [
        "type(train)"
      ],
      "execution_count": 9,
      "outputs": [
        {
          "output_type": "execute_result",
          "data": {
            "text/plain": [
              "tuple"
            ]
          },
          "metadata": {
            "tags": []
          },
          "execution_count": 9
        }
      ]
    },
    {
      "metadata": {
        "id": "MYrfUYKevIhl",
        "colab_type": "text"
      },
      "cell_type": "markdown",
      "source": [
        "此处重点讲解下 dataset的使用，先看一张图：\n",
        "![继承图](https://pic2.zhimg.com/80/v2-f9f42cc5c00573f7baaa815795f1ce45_hd.jpg)\n",
        "\n",
        "Dataset可以看作是相同类型“元素”的有序列表。在实际使用时，单个“元素”可以是向量，也可以是字符串、图片，甚至是tuple或者dict。"
      ]
    },
    {
      "metadata": {
        "id": "KlyI2CkJv7oe",
        "colab_type": "code",
        "colab": {}
      },
      "cell_type": "code",
      "source": [
        "train_data = tf.data.Dataset.from_tensor_slices(train)\n",
        "train_data = train_data.shuffle(10000) # optional\n",
        "test_data = tf.data.Dataset.from_tensor_slices(test)\n"
      ],
      "execution_count": 0,
      "outputs": []
    },
    {
      "metadata": {
        "id": "NPQEbWbGxnnl",
        "colab_type": "text"
      },
      "cell_type": "markdown",
      "source": [
        "利用tf.data.Dataset.from_tensor_slices创建每个元素是一个tuple的dataset也是可以的：\n",
        "\n",
        "```\n",
        "dataset = tf.data.Dataset.from_tensor_slices(\n",
        "  (np.array([1.0, 2.0, 3.0, 4.0, 5.0]), np.random.uniform(size=(5, 2)))\n",
        ")\n",
        "```\n",
        "\n"
      ]
    },
    {
      "metadata": {
        "id": "Ot-VD5H-y6t5",
        "colab_type": "code",
        "colab": {}
      },
      "cell_type": "code",
      "source": [
        "train_data = train_data.batch(batch_size)\n",
        "test_data = test_data.batch(batch_size)"
      ],
      "execution_count": 0,
      "outputs": []
    },
    {
      "metadata": {
        "id": "BMDu8dvhzFzR",
        "colab_type": "text"
      },
      "cell_type": "markdown",
      "source": [
        "##对Dataset中的元素做变换：Transformation\n",
        "\n",
        "Dataset支持一类特殊的操作：Transformation。一个Dataset通过Transformation变成一个新的Dataset。通常我们可以通过Transformation完成数据变换，打乱，组成batch，生成epoch等一系列操作。\n",
        "\n",
        "常用的Transformation有：\n",
        "\n",
        "- map\n",
        "- batch\n",
        "- shuffle\n",
        "- repeat\n"
      ]
    },
    {
      "metadata": {
        "id": "5phF8Thwv9-2",
        "colab_type": "code",
        "colab": {
          "base_uri": "https://localhost:8080/",
          "height": 34
        },
        "outputId": "bb7e6784-e82c-42a3-9a5a-096447062d6d"
      },
      "cell_type": "code",
      "source": [
        "train_data.output_types"
      ],
      "execution_count": 13,
      "outputs": [
        {
          "output_type": "execute_result",
          "data": {
            "text/plain": [
              "(tf.float32, tf.float64)"
            ]
          },
          "metadata": {
            "tags": []
          },
          "execution_count": 13
        }
      ]
    },
    {
      "metadata": {
        "id": "98ghYazNxC2z",
        "colab_type": "code",
        "colab": {
          "base_uri": "https://localhost:8080/",
          "height": 51
        },
        "outputId": "8fa9b6ca-1190-483f-a1a3-e13ffe82c98e"
      },
      "cell_type": "code",
      "source": [
        "train_data.output_shapes"
      ],
      "execution_count": 14,
      "outputs": [
        {
          "output_type": "execute_result",
          "data": {
            "text/plain": [
              "(TensorShape([Dimension(None), Dimension(784)]),\n",
              " TensorShape([Dimension(None), Dimension(10)]))"
            ]
          },
          "metadata": {
            "tags": []
          },
          "execution_count": 14
        }
      ]
    },
    {
      "metadata": {
        "id": "5T4ngkm5xGyH",
        "colab_type": "code",
        "colab": {}
      },
      "cell_type": "code",
      "source": [
        "iterator = tf.data.Iterator.from_structure(train_data.output_types, \n",
        "                                           train_data.output_shapes)\n",
        "img, label = iterator.get_next()"
      ],
      "execution_count": 0,
      "outputs": []
    },
    {
      "metadata": {
        "id": "WtwarTDixsr-",
        "colab_type": "code",
        "colab": {}
      },
      "cell_type": "code",
      "source": [
        "train_init = iterator.make_initializer(train_data)\t# initializer for train_data\n",
        "test_init = iterator.make_initializer(test_data)\t# initializer for test_data"
      ],
      "execution_count": 0,
      "outputs": []
    },
    {
      "metadata": {
        "id": "1xTTcxHOxwZ_",
        "colab_type": "code",
        "colab": {}
      },
      "cell_type": "code",
      "source": [
        "# Step 3: create weights and bias\n",
        "# w is initialized to random variables with mean of 0, stddev of 0.01\n",
        "# b is initialized to 0\n",
        "# shape of w depends on the dimension of X and Y so that Y = tf.matmul(X, w)\n",
        "# shape of b depends on Y\n",
        "w = tf.get_variable(name='weights', shape=(784, 10), initializer=tf.random_normal_initializer(0, 0.01))\n",
        "b = tf.get_variable(name='bias', shape=(1, 10), initializer=tf.zeros_initializer())"
      ],
      "execution_count": 0,
      "outputs": []
    },
    {
      "metadata": {
        "id": "AmycaBTD1tJ1",
        "colab_type": "code",
        "colab": {}
      },
      "cell_type": "code",
      "source": [
        "# Step 4: build model\n",
        "# the model that returns the logits.\n",
        "# this logits will be later passed through softmax layer\n",
        "logits = tf.matmul(img, w) + b "
      ],
      "execution_count": 0,
      "outputs": []
    },
    {
      "metadata": {
        "id": "FHHd59uB1yul",
        "colab_type": "code",
        "colab": {}
      },
      "cell_type": "code",
      "source": [
        "# Step 5: define loss function\n",
        "# use cross entropy of softmax of logits as the loss function\n",
        "entropy = tf.nn.softmax_cross_entropy_with_logits_v2(logits=logits, labels=label, name='entropy')\n",
        "loss = tf.reduce_mean(entropy, name='loss') # computes the mean over all the examples in the batch\n"
      ],
      "execution_count": 0,
      "outputs": []
    },
    {
      "metadata": {
        "id": "EPeI1UJm15Hd",
        "colab_type": "code",
        "colab": {}
      },
      "cell_type": "code",
      "source": [
        "# Step 6: define training op\n",
        "# using gradient descent with learning rate of 0.01 to minimize loss\n",
        "optimizer = tf.train.AdamOptimizer(learning_rate).minimize(loss)\n"
      ],
      "execution_count": 0,
      "outputs": []
    },
    {
      "metadata": {
        "id": "XX49u_p52EyR",
        "colab_type": "code",
        "colab": {}
      },
      "cell_type": "code",
      "source": [
        "# Step 7: calculate accuracy with test set\n",
        "preds = tf.nn.softmax(logits)\n",
        "correct_preds = tf.equal(tf.argmax(preds, 1), tf.argmax(label, 1))\n",
        "accuracy = tf.reduce_sum(tf.cast(correct_preds, tf.float32))"
      ],
      "execution_count": 0,
      "outputs": []
    },
    {
      "metadata": {
        "id": "s_C5tweS2NaS",
        "colab_type": "code",
        "colab": {
          "base_uri": "https://localhost:8080/",
          "height": 561
        },
        "outputId": "34591126-bdfd-413e-d125-3b492eba515d"
      },
      "cell_type": "code",
      "source": [
        "writer = tf.summary.FileWriter('./graphs/logreg', tf.get_default_graph())\n",
        "with tf.Session() as sess:\n",
        "   \n",
        "    start_time = time.time()\n",
        "    sess.run(tf.global_variables_initializer())\n",
        "\n",
        "    # train the model n_epochs times\n",
        "    for i in range(n_epochs): \t\n",
        "        sess.run(train_init)\t# drawing samples from train_data\n",
        "        total_loss = 0\n",
        "        n_batches = 0\n",
        "        try:\n",
        "            while True:\n",
        "                _, l = sess.run([optimizer, loss])\n",
        "                total_loss += l\n",
        "                n_batches += 1\n",
        "        except tf.errors.OutOfRangeError:\n",
        "            pass\n",
        "        print('Average loss epoch {0}: {1}'.format(i, total_loss/n_batches))\n",
        "    print('Total time: {0} seconds'.format(time.time() - start_time))\n",
        "\n",
        "    # test the model\n",
        "    sess.run(test_init)\t\t\t# drawing samples from test_data\n",
        "    total_correct_preds = 0\n",
        "    try:\n",
        "        while True:\n",
        "            accuracy_batch = sess.run(accuracy)\n",
        "            total_correct_preds += accuracy_batch\n",
        "    except tf.errors.OutOfRangeError:\n",
        "        pass\n",
        "\n",
        "    print('Accuracy {0}'.format(total_correct_preds/n_test))\n",
        "writer.close()"
      ],
      "execution_count": 22,
      "outputs": [
        {
          "output_type": "stream",
          "text": [
            "Average loss epoch 0: 0.3649046092185863\n",
            "Average loss epoch 1: 0.29023540718264357\n",
            "Average loss epoch 2: 0.2826536399680515\n",
            "Average loss epoch 3: 0.2731735230878342\n",
            "Average loss epoch 4: 0.27216467266512473\n",
            "Average loss epoch 5: 0.26859085571973823\n",
            "Average loss epoch 6: 0.2663998494314593\n",
            "Average loss epoch 7: 0.26637477374007534\n",
            "Average loss epoch 8: 0.26438443808015005\n",
            "Average loss epoch 9: 0.2578755683677141\n",
            "Average loss epoch 10: 0.2590262358445068\n",
            "Average loss epoch 11: 0.2608589655091596\n",
            "Average loss epoch 12: 0.2559169008115003\n",
            "Average loss epoch 13: 0.2549902643921763\n",
            "Average loss epoch 14: 0.2544778812416764\n",
            "Average loss epoch 15: 0.253373984264773\n",
            "Average loss epoch 16: 0.25371954588349477\n",
            "Average loss epoch 17: 0.2548387814573077\n",
            "Average loss epoch 18: 0.2543502799646799\n",
            "Average loss epoch 19: 0.25282337293028834\n",
            "Average loss epoch 20: 0.25238093278089235\n",
            "Average loss epoch 21: 0.2517545375713082\n",
            "Average loss epoch 22: 0.2494045763688032\n",
            "Average loss epoch 23: 0.25251689797570537\n",
            "Average loss epoch 24: 0.25127754686183706\n",
            "Average loss epoch 25: 0.24866575231385785\n",
            "Average loss epoch 26: 0.24907356606319894\n",
            "Average loss epoch 27: 0.2509015364702358\n",
            "Average loss epoch 28: 0.2493305573456509\n",
            "Average loss epoch 29: 0.2461547057642493\n",
            "Total time: 26.476449251174927 seconds\n",
            "Accuracy 0.9158\n"
          ],
          "name": "stdout"
        }
      ]
    },
    {
      "metadata": {
        "id": "BXqIOfJ_2lqg",
        "colab_type": "code",
        "colab": {}
      },
      "cell_type": "code",
      "source": [
        ""
      ],
      "execution_count": 0,
      "outputs": []
    }
  ]
}